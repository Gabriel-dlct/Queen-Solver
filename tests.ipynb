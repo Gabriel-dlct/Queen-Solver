{
 "cells": [
  {
   "cell_type": "code",
   "execution_count": 2,
   "id": "643d5e20",
   "metadata": {},
   "outputs": [],
   "source": [
    "from enum import Enum\n",
    "\n"
   ]
  },
  {
   "cell_type": "code",
   "execution_count": 3,
   "id": "985952e3",
   "metadata": {},
   "outputs": [],
   "source": [
    "class Color(Enum):\n",
    "    RED : str = 'R'\n",
    "    BLUE : str = 'B'\n",
    "    GREEN : str = 'G'"
   ]
  },
  {
   "cell_type": "code",
   "execution_count": 4,
   "id": "928e3918",
   "metadata": {},
   "outputs": [
    {
     "name": "stdout",
     "output_type": "stream",
     "text": [
      "Color.RED\n"
     ]
    }
   ],
   "source": [
    "print(Color('R'))"
   ]
  },
  {
   "cell_type": "code",
   "execution_count": 5,
   "id": "d350e65c",
   "metadata": {},
   "outputs": [
    {
     "name": "stdout",
     "output_type": "stream",
     "text": [
      "Color.RED\n"
     ]
    }
   ],
   "source": [
    "print(Color.RED)"
   ]
  },
  {
   "cell_type": "code",
   "execution_count": 6,
   "id": "856e21be",
   "metadata": {},
   "outputs": [
    {
     "name": "stdout",
     "output_type": "stream",
     "text": [
      "<Color.RED: 'R'>\n"
     ]
    }
   ],
   "source": [
    "print(repr(Color.RED))"
   ]
  },
  {
   "cell_type": "code",
   "execution_count": 7,
   "id": "7e242a40",
   "metadata": {},
   "outputs": [
    {
     "name": "stdout",
     "output_type": "stream",
     "text": [
      "RED\n"
     ]
    }
   ],
   "source": [
    "print(Color.RED.name)"
   ]
  },
  {
   "cell_type": "code",
   "execution_count": null,
   "id": "8fe62a1f",
   "metadata": {},
   "outputs": [
    {
     "name": "stdout",
     "output_type": "stream",
     "text": [
      "R\n"
     ]
    }
   ],
   "source": [
    "def create_car(color: Color) -> None:\n",
    "    match color:\n",
    "        case Color.RED:\n",
    "            print('A smoking gngngn')\n",
    "        case Color.BLUE:\n",
    "            print('blue')\n",
    "        case Color.GREEN:\n",
    "            print(\"greendkjc\")"
   ]
  }
 ],
 "metadata": {
  "kernelspec": {
   "display_name": "linkedin",
   "language": "python",
   "name": "python3"
  },
  "language_info": {
   "codemirror_mode": {
    "name": "ipython",
    "version": 3
   },
   "file_extension": ".py",
   "mimetype": "text/x-python",
   "name": "python",
   "nbconvert_exporter": "python",
   "pygments_lexer": "ipython3",
   "version": "3.13.7"
  }
 },
 "nbformat": 4,
 "nbformat_minor": 5
}
